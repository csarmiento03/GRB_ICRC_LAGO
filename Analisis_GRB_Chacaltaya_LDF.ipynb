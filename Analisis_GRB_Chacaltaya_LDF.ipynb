{
 "cells": [
  {
   "cell_type": "code",
   "execution_count": 1,
   "metadata": {},
   "outputs": [],
   "source": [
    "import pandas as pd\n",
    "import numpy as np\n",
    "import matplotlib.pyplot as plt\n",
    "from matplotlib import pyplot\n",
    "plt.style.use('seaborn-whitegrid')\n",
    "import seaborn as sns\n",
    "from scipy.stats import norm\n",
    "from sklearn.preprocessing import StandardScaler\n",
    "import pylab\n",
    "import random\n",
    "\n",
    "import os"
   ]
  },
  {
   "cell_type": "code",
   "execution_count": 2,
   "metadata": {},
   "outputs": [],
   "source": [
    "plt.rc('axes', labelsize=22)\n",
    "plt.rc('xtick', labelsize=20)\n",
    "plt.rc('ytick', labelsize=20)"
   ]
  },
  {
   "cell_type": "code",
   "execution_count": 3,
   "metadata": {},
   "outputs": [
    {
     "data": {
      "text/plain": [
       "'/home/csarmiento/Documentos/PostDoc_docs/Lago_Work'"
      ]
     },
     "execution_count": 3,
     "metadata": {},
     "output_type": "execute_result"
    }
   ],
   "source": [
    "#A partir de aquí python sabe en que carpeta se encuentran los datos\n",
    "os.chdir(\"/home/csarmiento/Documentos/PostDoc_docs/Lago_Work/\")\n",
    "os.getcwd()"
   ]
  },
  {
   "cell_type": "code",
   "execution_count": 4,
   "metadata": {},
   "outputs": [],
   "source": [
    "alfa_1=-2.37\n",
    "A_1=7.5\n",
    "Er_1=0.47\n",
    "\n",
    "alfa_2=-2.7\n",
    "A_2=5.5\n",
    "Er_2=0.48\n",
    "\n",
    "alfa_3=-3.37\n",
    "A_3=2.75\n",
    "Er_3=0.48\n",
    "\n",
    "alfa_4=-5.43\n",
    "A_4=0.409\n",
    "Er_4=0.475"
   ]
  },
  {
   "cell_type": "code",
   "execution_count": 5,
   "metadata": {},
   "outputs": [
    {
     "name": "stdout",
     "output_type": "stream",
     "text": [
      "1.0337430537091583e-05\n"
     ]
    }
   ],
   "source": [
    "A=1E-5*A_1/(Er_2**alfa_2)\n",
    "print(A)"
   ]
  },
  {
   "cell_type": "code",
   "execution_count": 6,
   "metadata": {},
   "outputs": [
    {
     "name": "stdout",
     "output_type": "stream",
     "text": [
      "1.0\n"
     ]
    }
   ],
   "source": [
    "E2=1**(alfa_2+1)\n",
    "print(E2)"
   ]
  },
  {
   "cell_type": "code",
   "execution_count": 7,
   "metadata": {},
   "outputs": [
    {
     "name": "stdout",
     "output_type": "stream",
     "text": [
      "15.425846568000244\n"
     ]
    }
   ],
   "source": [
    "E1=0.2**(alfa_2+1)\n",
    "print(E1)"
   ]
  },
  {
   "cell_type": "code",
   "execution_count": 8,
   "metadata": {},
   "outputs": [
    {
     "data": {
      "text/plain": [
       "8.77212863737903e-05"
      ]
     },
     "execution_count": 8,
     "metadata": {},
     "output_type": "execute_result"
    }
   ],
   "source": [
    "A*(E2-E1)/(alfa_2+1)"
   ]
  },
  {
   "cell_type": "code",
   "execution_count": 9,
   "metadata": {},
   "outputs": [],
   "source": [
    "F1=A_1*1E-5*(10**(alfa_1+1)-0.2**(alfa_1+1))/((alfa_1+1)*(Er_1**alfa_1))\n",
    "F2=A_2*1E-5*(10**(alfa_2+1)-0.2**(alfa_2+1))/((alfa_2+1)*(Er_2**alfa_2))\n",
    "F3=A_3*1E-5*(10**(alfa_3+1)-0.2**(alfa_3+1))/((alfa_3+1)*(Er_3**alfa_3))\n",
    "F4=A_4*1E-5*(10**(alfa_4+1)-0.2**(alfa_4+1))/((alfa_4+1)*(Er_4**alfa_4))"
   ]
  },
  {
   "cell_type": "code",
   "execution_count": 10,
   "metadata": {},
   "outputs": [
    {
     "name": "stdout",
     "output_type": "stream",
     "text": [
      "flujo para alfa = -2.37 = 8.255702792638225e-05 particulas/m2*s\n",
      "flujo para alfa = -2.70 = 6.869925269347517e-05 particulas/m2*s\n",
      "flujo para alfa = -3.37 = 4.434915740109312e-05 particulas/m2*s\n",
      "flujo para alfa = -5.43 = 2.023964954624724e-05 particulas/m2*s\n"
     ]
    }
   ],
   "source": [
    "print(r\"flujo para alfa = -2.37 =\", F1, \"particulas/m2*s\")\n",
    "print(r\"flujo para alfa = -2.70 =\", F2, \"particulas/m2*s\")\n",
    "print(r\"flujo para alfa = -3.37 =\", F3, \"particulas/m2*s\")\n",
    "print(r\"flujo para alfa = -5.43 =\", F4, \"particulas/m2*s\")"
   ]
  },
  {
   "cell_type": "code",
   "execution_count": 11,
   "metadata": {},
   "outputs": [],
   "source": [
    "#Calculo flujo en lo alto de la atmosfera\n",
    "h=110000\n",
    "\n",
    "F1t=(np.pi*(h*np.tan(1*np.pi/180))**2)*F1\n",
    "F2t=(np.pi*(h*np.tan(1*np.pi/180))**2)*F2\n",
    "F3t=(np.pi*(h*np.tan(1*np.pi/180))**2)*F3\n",
    "F4t=(np.pi*(h*np.tan(1*np.pi/180))**2)*F4"
   ]
  },
  {
   "cell_type": "code",
   "execution_count": 12,
   "metadata": {},
   "outputs": [
    {
     "data": {
      "text/plain": [
       "191.98641266076805"
      ]
     },
     "execution_count": 12,
     "metadata": {},
     "output_type": "execute_result"
    }
   ],
   "source": [
    "h*np.tan(0.1*np.pi/180)"
   ]
  },
  {
   "cell_type": "code",
   "execution_count": 13,
   "metadata": {},
   "outputs": [
    {
     "name": "stdout",
     "output_type": "stream",
     "text": [
      "flujo para alfa = -2.37 = 956.163651711296 particulas/s\n",
      "flujo para alfa = -2.70 = 795.6648873528412 particulas/s\n",
      "flujo para alfa = -3.37 = 513.6455775607824 particulas/s\n",
      "flujo para alfa = -5.43 = 234.41271694947127 particulas/s\n"
     ]
    }
   ],
   "source": [
    "print(r\"flujo para alfa = -2.37 =\", F1t, \"particulas/s\")\n",
    "print(r\"flujo para alfa = -2.70 =\", F2t, \"particulas/s\")\n",
    "print(r\"flujo para alfa = -3.37 =\", F3t, \"particulas/s\")\n",
    "print(r\"flujo para alfa = -5.43 =\", F4t, \"particulas/s\")"
   ]
  },
  {
   "cell_type": "markdown",
   "metadata": {},
   "source": [
    "## GRB para $\\alpha$ = -2.37"
   ]
  },
  {
   "cell_type": "markdown",
   "metadata": {},
   "source": [
    "### Simulaciones\n",
    "\n",
    "- 10.000 fotones\n",
    "- Energía 0.1 TeV - 2TeV\n",
    "- h = 5200 m s.n.m\n",
    "- $\\gamma$ = -2.37\n",
    "- $\\theta$ = 0$^{\\circ}$\n",
    "- $\\phi$ = -180$^{\\circ}$ - 180$^{\\circ}$"
   ]
  },
  {
   "cell_type": "code",
   "execution_count": 14,
   "metadata": {},
   "outputs": [],
   "source": [
    "ds1=pd.read_csv(r\"salida_cha_grb_237.dst\", delimiter=\" \")"
   ]
  },
  {
   "cell_type": "code",
   "execution_count": 15,
   "metadata": {
    "scrolled": false
   },
   "outputs": [
    {
     "name": "stdout",
     "output_type": "stream",
     "text": [
      "<class 'pandas.core.frame.DataFrame'>\n",
      "RangeIndex: 85 entries, 0 to 84\n",
      "Data columns (total 14 columns):\n",
      " #   Column           Non-Null Count  Dtype  \n",
      "---  ------           --------------  -----  \n",
      " 0   distance_in_bin  85 non-null     float64\n",
      " 1   N_phot           85 non-null     float64\n",
      " 2   N_e+             85 non-null     float64\n",
      " 3   N_e-             85 non-null     float64\n",
      " 4   N_mu+            85 non-null     float64\n",
      " 5   N_mu-            85 non-null     float64\n",
      " 6   N_pi0            85 non-null     float64\n",
      " 7   N_pi+            85 non-null     float64\n",
      " 8   N_pi-            85 non-null     float64\n",
      " 9   N_n              85 non-null     float64\n",
      " 10  N_p              85 non-null     float64\n",
      " 11  N_pbar           85 non-null     float64\n",
      " 12  N_others         85 non-null     float64\n",
      " 13  Total_per_bin    85 non-null     float64\n",
      "dtypes: float64(14)\n",
      "memory usage: 9.4 KB\n"
     ]
    }
   ],
   "source": [
    "ds1.info()"
   ]
  },
  {
   "cell_type": "code",
   "execution_count": 16,
   "metadata": {
    "scrolled": true
   },
   "outputs": [
    {
     "data": {
      "text/html": [
       "<div>\n",
       "<style scoped>\n",
       "    .dataframe tbody tr th:only-of-type {\n",
       "        vertical-align: middle;\n",
       "    }\n",
       "\n",
       "    .dataframe tbody tr th {\n",
       "        vertical-align: top;\n",
       "    }\n",
       "\n",
       "    .dataframe thead th {\n",
       "        text-align: right;\n",
       "    }\n",
       "</style>\n",
       "<table border=\"1\" class=\"dataframe\">\n",
       "  <thead>\n",
       "    <tr style=\"text-align: right;\">\n",
       "      <th></th>\n",
       "      <th>distance_in_bin</th>\n",
       "      <th>N_phot</th>\n",
       "      <th>N_e+</th>\n",
       "      <th>N_e-</th>\n",
       "      <th>N_mu+</th>\n",
       "      <th>N_mu-</th>\n",
       "      <th>N_pi0</th>\n",
       "      <th>N_pi+</th>\n",
       "      <th>N_pi-</th>\n",
       "      <th>N_n</th>\n",
       "      <th>N_p</th>\n",
       "      <th>N_pbar</th>\n",
       "      <th>N_others</th>\n",
       "      <th>Total_per_bin</th>\n",
       "    </tr>\n",
       "  </thead>\n",
       "  <tbody>\n",
       "    <tr>\n",
       "      <th>0</th>\n",
       "      <td>1.000000</td>\n",
       "      <td>230402.270</td>\n",
       "      <td>21160.7970</td>\n",
       "      <td>26501.0920</td>\n",
       "      <td>0.000000</td>\n",
       "      <td>0.000000</td>\n",
       "      <td>0.0</td>\n",
       "      <td>1.229350</td>\n",
       "      <td>0.000000</td>\n",
       "      <td>1.229350</td>\n",
       "      <td>0.0</td>\n",
       "      <td>0.0</td>\n",
       "      <td>0.0</td>\n",
       "      <td>278066.620</td>\n",
       "    </tr>\n",
       "    <tr>\n",
       "      <th>1</th>\n",
       "      <td>1.122018</td>\n",
       "      <td>38112.100</td>\n",
       "      <td>3564.2513</td>\n",
       "      <td>4531.9699</td>\n",
       "      <td>0.000000</td>\n",
       "      <td>0.976507</td>\n",
       "      <td>0.0</td>\n",
       "      <td>0.000000</td>\n",
       "      <td>0.976507</td>\n",
       "      <td>0.000000</td>\n",
       "      <td>0.0</td>\n",
       "      <td>0.0</td>\n",
       "      <td>0.0</td>\n",
       "      <td>46210.274</td>\n",
       "    </tr>\n",
       "    <tr>\n",
       "      <th>2</th>\n",
       "      <td>1.258925</td>\n",
       "      <td>36061.546</td>\n",
       "      <td>3364.8445</td>\n",
       "      <td>4395.7063</td>\n",
       "      <td>0.000000</td>\n",
       "      <td>0.000000</td>\n",
       "      <td>0.0</td>\n",
       "      <td>0.775667</td>\n",
       "      <td>0.000000</td>\n",
       "      <td>0.775667</td>\n",
       "      <td>0.0</td>\n",
       "      <td>0.0</td>\n",
       "      <td>0.0</td>\n",
       "      <td>43823.648</td>\n",
       "    </tr>\n",
       "    <tr>\n",
       "      <th>3</th>\n",
       "      <td>1.412538</td>\n",
       "      <td>34321.766</td>\n",
       "      <td>3212.5247</td>\n",
       "      <td>4293.2244</td>\n",
       "      <td>0.616134</td>\n",
       "      <td>0.000000</td>\n",
       "      <td>0.0</td>\n",
       "      <td>0.000000</td>\n",
       "      <td>0.616134</td>\n",
       "      <td>0.000000</td>\n",
       "      <td>0.0</td>\n",
       "      <td>0.0</td>\n",
       "      <td>0.0</td>\n",
       "      <td>41828.748</td>\n",
       "    </tr>\n",
       "    <tr>\n",
       "      <th>4</th>\n",
       "      <td>1.584893</td>\n",
       "      <td>32865.547</td>\n",
       "      <td>3045.6168</td>\n",
       "      <td>4001.9296</td>\n",
       "      <td>0.000000</td>\n",
       "      <td>0.000000</td>\n",
       "      <td>0.0</td>\n",
       "      <td>0.489413</td>\n",
       "      <td>0.000000</td>\n",
       "      <td>0.489413</td>\n",
       "      <td>0.0</td>\n",
       "      <td>0.0</td>\n",
       "      <td>0.0</td>\n",
       "      <td>39914.073</td>\n",
       "    </tr>\n",
       "  </tbody>\n",
       "</table>\n",
       "</div>"
      ],
      "text/plain": [
       "   distance_in_bin      N_phot        N_e+        N_e-     N_mu+     N_mu-  \\\n",
       "0         1.000000  230402.270  21160.7970  26501.0920  0.000000  0.000000   \n",
       "1         1.122018   38112.100   3564.2513   4531.9699  0.000000  0.976507   \n",
       "2         1.258925   36061.546   3364.8445   4395.7063  0.000000  0.000000   \n",
       "3         1.412538   34321.766   3212.5247   4293.2244  0.616134  0.000000   \n",
       "4         1.584893   32865.547   3045.6168   4001.9296  0.000000  0.000000   \n",
       "\n",
       "   N_pi0     N_pi+     N_pi-       N_n  N_p  N_pbar  N_others  Total_per_bin  \n",
       "0    0.0  1.229350  0.000000  1.229350  0.0     0.0       0.0     278066.620  \n",
       "1    0.0  0.000000  0.976507  0.000000  0.0     0.0       0.0      46210.274  \n",
       "2    0.0  0.775667  0.000000  0.775667  0.0     0.0       0.0      43823.648  \n",
       "3    0.0  0.000000  0.616134  0.000000  0.0     0.0       0.0      41828.748  \n",
       "4    0.0  0.489413  0.000000  0.489413  0.0     0.0       0.0      39914.073  "
      ]
     },
     "execution_count": 16,
     "metadata": {},
     "output_type": "execute_result"
    }
   ],
   "source": [
    "ds1.head()"
   ]
  },
  {
   "cell_type": "code",
   "execution_count": 17,
   "metadata": {
    "scrolled": false
   },
   "outputs": [
    {
     "data": {
      "text/plain": [
       "<matplotlib.legend.Legend at 0x7f5641dc98d0>"
      ]
     },
     "execution_count": 17,
     "metadata": {},
     "output_type": "execute_result"
    },
    {
     "data": {
      "image/png": "[encoded data removed]",
      "text/plain": [
       "<Figure size 720x576 with 1 Axes>"
      ]
     },
     "metadata": {
      "needs_background": "light"
     },
     "output_type": "display_data"
    }
   ],
   "source": [
    "plt.figure(figsize=(10,8))\n",
    "plt.step(ds1[\"distance_in_bin\"], ds1[\"N_phot\"]/100000, c=\"k\", label=r\"$\\gamma$\")\n",
    "plt.step(ds1[\"distance_in_bin\"], (ds1[\"N_e+\"]+ds1[\"N_e-\"])/100000, c=\"r\", label=r\"$e^{+}e^{-}$\")\n",
    "plt.step(ds1[\"distance_in_bin\"], (ds1[\"N_mu+\"]+ds1[\"N_mu-\"])/100000, c=\"b\", label=r\"$\\mu^{+}\\mu^{-}$\")\n",
    "plt.xscale(\"log\")\n",
    "plt.yscale(\"log\")\n",
    "#plt.xlim(0, 200)\n",
    "plt.title(r\"LDF Chacaltaya lluvia promedio, $\\alpha$=-2.37\", fontsize=22)\n",
    "plt.xlabel(\"Distancia al core, m\")\n",
    "plt.ylabel(r\"Flujo normalizado, part/m$^2$\")\n",
    "plt.legend(fontsize=20)"
   ]
  },
  {
   "cell_type": "code",
   "execution_count": 18,
   "metadata": {},
   "outputs": [],
   "source": [
    "de1=pd.read_csv(r\"salida_cha_grb_237.dse\", delimiter=\" \")"
   ]
  },
  {
   "cell_type": "code",
   "execution_count": 19,
   "metadata": {
    "scrolled": false
   },
   "outputs": [
    {
     "name": "stdout",
     "output_type": "stream",
     "text": [
      "<class 'pandas.core.frame.DataFrame'>\n",
      "RangeIndex: 85 entries, 0 to 84\n",
      "Data columns (total 14 columns):\n",
      " #   Column           Non-Null Count  Dtype  \n",
      "---  ------           --------------  -----  \n",
      " 0   distance_in_bin  85 non-null     float64\n",
      " 1   E_phot           85 non-null     float64\n",
      " 2   E_e+             85 non-null     float64\n",
      " 3   E_e-             85 non-null     float64\n",
      " 4   E_mu+            85 non-null     float64\n",
      " 5   E_mu-            85 non-null     float64\n",
      " 6   E_pi0            85 non-null     float64\n",
      " 7   E_pi+            85 non-null     float64\n",
      " 8   E_pi-            85 non-null     float64\n",
      " 9   E_n              85 non-null     float64\n",
      " 10  E_p              85 non-null     float64\n",
      " 11  E_pbar           85 non-null     float64\n",
      " 12  E_others         85 non-null     float64\n",
      " 13  Total_E_per_bin  85 non-null     float64\n",
      "dtypes: float64(14)\n",
      "memory usage: 9.4 KB\n"
     ]
    }
   ],
   "source": [
    "de1.info()"
   ]
  },
  {
   "cell_type": "code",
   "execution_count": 20,
   "metadata": {
    "scrolled": true
   },
   "outputs": [
    {
     "data": {
      "text/html": [
       "<div>\n",
       "<style scoped>\n",
       "    .dataframe tbody tr th:only-of-type {\n",
       "        vertical-align: middle;\n",
       "    }\n",
       "\n",
       "    .dataframe tbody tr th {\n",
       "        vertical-align: top;\n",
       "    }\n",
       "\n",
       "    .dataframe thead th {\n",
       "        text-align: right;\n",
       "    }\n",
       "</style>\n",
       "<table border=\"1\" class=\"dataframe\">\n",
       "  <thead>\n",
       "    <tr style=\"text-align: right;\">\n",
       "      <th></th>\n",
       "      <th>distance_in_bin</th>\n",
       "      <th>E_phot</th>\n",
       "      <th>E_e+</th>\n",
       "      <th>E_e-</th>\n",
       "      <th>E_mu+</th>\n",
       "      <th>E_mu-</th>\n",
       "      <th>E_pi0</th>\n",
       "      <th>E_pi+</th>\n",
       "      <th>E_pi-</th>\n",
       "      <th>E_n</th>\n",
       "      <th>E_p</th>\n",
       "      <th>E_pbar</th>\n",
       "      <th>E_others</th>\n",
       "      <th>Total_E_per_bin</th>\n",
       "    </tr>\n",
       "  </thead>\n",
       "  <tbody>\n",
       "    <tr>\n",
       "      <th>0</th>\n",
       "      <td>1.000000</td>\n",
       "      <td>120724.1200</td>\n",
       "      <td>35641.2920</td>\n",
       "      <td>36923.8070</td>\n",
       "      <td>0.0000</td>\n",
       "      <td>0.000000</td>\n",
       "      <td>0.0</td>\n",
       "      <td>9.435346</td>\n",
       "      <td>0.000000</td>\n",
       "      <td>1.256811</td>\n",
       "      <td>0.0</td>\n",
       "      <td>0.0</td>\n",
       "      <td>0.0</td>\n",
       "      <td>193299.910</td>\n",
       "    </tr>\n",
       "    <tr>\n",
       "      <th>1</th>\n",
       "      <td>1.122018</td>\n",
       "      <td>12412.7020</td>\n",
       "      <td>3630.1567</td>\n",
       "      <td>3835.5811</td>\n",
       "      <td>0.0000</td>\n",
       "      <td>0.230242</td>\n",
       "      <td>0.0</td>\n",
       "      <td>0.000000</td>\n",
       "      <td>2.493047</td>\n",
       "      <td>0.000000</td>\n",
       "      <td>0.0</td>\n",
       "      <td>0.0</td>\n",
       "      <td>0.0</td>\n",
       "      <td>19881.163</td>\n",
       "    </tr>\n",
       "    <tr>\n",
       "      <th>2</th>\n",
       "      <td>1.258925</td>\n",
       "      <td>10781.3520</td>\n",
       "      <td>3201.7839</td>\n",
       "      <td>3396.0515</td>\n",
       "      <td>0.0000</td>\n",
       "      <td>0.000000</td>\n",
       "      <td>0.0</td>\n",
       "      <td>0.301595</td>\n",
       "      <td>0.000000</td>\n",
       "      <td>0.927407</td>\n",
       "      <td>0.0</td>\n",
       "      <td>0.0</td>\n",
       "      <td>0.0</td>\n",
       "      <td>17380.416</td>\n",
       "    </tr>\n",
       "    <tr>\n",
       "      <th>3</th>\n",
       "      <td>1.412538</td>\n",
       "      <td>9344.2817</td>\n",
       "      <td>2773.0323</td>\n",
       "      <td>2625.5815</td>\n",
       "      <td>245.0114</td>\n",
       "      <td>0.000000</td>\n",
       "      <td>0.0</td>\n",
       "      <td>0.000000</td>\n",
       "      <td>0.677158</td>\n",
       "      <td>0.000000</td>\n",
       "      <td>0.0</td>\n",
       "      <td>0.0</td>\n",
       "      <td>0.0</td>\n",
       "      <td>14988.584</td>\n",
       "    </tr>\n",
       "    <tr>\n",
       "      <th>4</th>\n",
       "      <td>1.584893</td>\n",
       "      <td>8325.7843</td>\n",
       "      <td>2414.8949</td>\n",
       "      <td>2453.1665</td>\n",
       "      <td>0.0000</td>\n",
       "      <td>0.000000</td>\n",
       "      <td>0.0</td>\n",
       "      <td>129.291670</td>\n",
       "      <td>0.000000</td>\n",
       "      <td>0.487839</td>\n",
       "      <td>0.0</td>\n",
       "      <td>0.0</td>\n",
       "      <td>0.0</td>\n",
       "      <td>13323.625</td>\n",
       "    </tr>\n",
       "  </tbody>\n",
       "</table>\n",
       "</div>"
      ],
      "text/plain": [
       "   distance_in_bin       E_phot        E_e+        E_e-     E_mu+     E_mu-  \\\n",
       "0         1.000000  120724.1200  35641.2920  36923.8070    0.0000  0.000000   \n",
       "1         1.122018   12412.7020   3630.1567   3835.5811    0.0000  0.230242   \n",
       "2         1.258925   10781.3520   3201.7839   3396.0515    0.0000  0.000000   \n",
       "3         1.412538    9344.2817   2773.0323   2625.5815  245.0114  0.000000   \n",
       "4         1.584893    8325.7843   2414.8949   2453.1665    0.0000  0.000000   \n",
       "\n",
       "   E_pi0       E_pi+     E_pi-       E_n  E_p  E_pbar  E_others  \\\n",
       "0    0.0    9.435346  0.000000  1.256811  0.0     0.0       0.0   \n",
       "1    0.0    0.000000  2.493047  0.000000  0.0     0.0       0.0   \n",
       "2    0.0    0.301595  0.000000  0.927407  0.0     0.0       0.0   \n",
       "3    0.0    0.000000  0.677158  0.000000  0.0     0.0       0.0   \n",
       "4    0.0  129.291670  0.000000  0.487839  0.0     0.0       0.0   \n",
       "\n",
       "   Total_E_per_bin  \n",
       "0       193299.910  \n",
       "1        19881.163  \n",
       "2        17380.416  \n",
       "3        14988.584  \n",
       "4        13323.625  "
      ]
     },
     "execution_count": 20,
     "metadata": {},
     "output_type": "execute_result"
    }
   ],
   "source": [
    "de1.head()"
   ]
  },
  {
   "cell_type": "code",
   "execution_count": 21,
   "metadata": {
    "scrolled": false
   },
   "outputs": [
    {
     "data": {
      "text/plain": [
       "<matplotlib.legend.Legend at 0x7f5602c2fba8>"
      ]
     },
     "execution_count": 21,
     "metadata": {},
     "output_type": "execute_result"
    },
    {
     "data": {
      "image/png": "[encoded data removed]",
      "text/plain": [
       "<Figure size 720x576 with 1 Axes>"
      ]
     },
     "metadata": {
      "needs_background": "light"
     },
     "output_type": "display_data"
    }
   ],
   "source": [
    "plt.figure(figsize=(10,8))\n",
    "plt.step(de1[\"distance_in_bin\"], de1[\"E_phot\"]/100000, c=\"k\", label=r\"$\\gamma$\")\n",
    "plt.step(de1[\"distance_in_bin\"], (de1[\"E_e+\"]+de1[\"E_e-\"])/100000, c=\"r\", label=r\"$e^{+}e^{-}$\")\n",
    "plt.step(de1[\"distance_in_bin\"], (de1[\"E_mu+\"]+de1[\"E_mu-\"])/100000, c=\"b\", label=r\"$\\mu^{+}\\mu^{-}$\")\n",
    "plt.xscale(\"log\")\n",
    "plt.yscale(\"log\")\n",
    "#plt.xlim(0, 200)\n",
    "plt.title(r\"LDF Chacaltaya lluvia promedio, $\\alpha$=-2.37\", fontsize=22)\n",
    "plt.xlabel(\"Distancia al core, m\")\n",
    "plt.ylabel(r\"Energy fluence, GeV/m$^2$\")\n",
    "plt.legend(fontsize=20)"
   ]
  },
  {
   "cell_type": "markdown",
   "metadata": {},
   "source": [
    "## GRB para $\\alpha$ = -2.70"
   ]
  },
  {
   "cell_type": "markdown",
   "metadata": {},
   "source": [
    "### Simulaciones\n",
    "\n",
    "- 10.000 fotones\n",
    "- Energía 0.1 TeV - 2TeV\n",
    "- h = 5200 m s.n.m\n",
    "- $\\gamma$ = -2.37\n",
    "- $\\theta$ = 0$^{\\circ}$\n",
    "- $\\phi$ = -180$^{\\circ}$ - 180$^{\\circ}$"
   ]
  },
  {
   "cell_type": "code",
   "execution_count": 22,
   "metadata": {},
   "outputs": [],
   "source": [
    "ds2=pd.read_csv(r\"salida_cha_grb_270.dst\", delimiter=\" \")"
   ]
  },
  {
   "cell_type": "code",
   "execution_count": 23,
   "metadata": {
    "scrolled": false
   },
   "outputs": [
    {
     "name": "stdout",
     "output_type": "stream",
     "text": [
      "<class 'pandas.core.frame.DataFrame'>\n",
      "RangeIndex: 43 entries, 0 to 42\n",
      "Data columns (total 14 columns):\n",
      " #   Column           Non-Null Count  Dtype  \n",
      "---  ------           --------------  -----  \n",
      " 0   distance_in_bin  43 non-null     float64\n",
      " 1   N_phot           43 non-null     float64\n",
      " 2   N_e+             43 non-null     float64\n",
      " 3   N_e-             43 non-null     float64\n",
      " 4   N_mu+            43 non-null     float64\n",
      " 5   N_mu-            43 non-null     float64\n",
      " 6   N_pi0            43 non-null     float64\n",
      " 7   N_pi+            43 non-null     float64\n",
      " 8   N_pi-            43 non-null     float64\n",
      " 9   N_n              43 non-null     float64\n",
      " 10  N_p              43 non-null     float64\n",
      " 11  N_pbar           43 non-null     float64\n",
      " 12  N_others         43 non-null     float64\n",
      " 13  Total_per_bin    43 non-null     float64\n",
      "dtypes: float64(14)\n",
      "memory usage: 4.8 KB\n"
     ]
    }
   ],
   "source": [
    "ds2.info()"
   ]
  },
  {
   "cell_type": "code",
   "execution_count": 24,
   "metadata": {
    "scrolled": true
   },
   "outputs": [
    {
     "data": {
      "text/html": [
       "<div>\n",
       "<style scoped>\n",
       "    .dataframe tbody tr th:only-of-type {\n",
       "        vertical-align: middle;\n",
       "    }\n",
       "\n",
       "    .dataframe tbody tr th {\n",
       "        vertical-align: top;\n",
       "    }\n",
       "\n",
       "    .dataframe thead th {\n",
       "        text-align: right;\n",
       "    }\n",
       "</style>\n",
       "<table border=\"1\" class=\"dataframe\">\n",
       "  <thead>\n",
       "    <tr style=\"text-align: right;\">\n",
       "      <th></th>\n",
       "      <th>distance_in_bin</th>\n",
       "      <th>N_phot</th>\n",
       "      <th>N_e+</th>\n",
       "      <th>N_e-</th>\n",
       "      <th>N_mu+</th>\n",
       "      <th>N_mu-</th>\n",
       "      <th>N_pi0</th>\n",
       "      <th>N_pi+</th>\n",
       "      <th>N_pi-</th>\n",
       "      <th>N_n</th>\n",
       "      <th>N_p</th>\n",
       "      <th>N_pbar</th>\n",
       "      <th>N_others</th>\n",
       "      <th>Total_per_bin</th>\n",
       "    </tr>\n",
       "  </thead>\n",
       "  <tbody>\n",
       "    <tr>\n",
       "      <th>0</th>\n",
       "      <td>1.000000</td>\n",
       "      <td>104826.890</td>\n",
       "      <td>9585.8704</td>\n",
       "      <td>12123.5630</td>\n",
       "      <td>1.088438</td>\n",
       "      <td>0.000000</td>\n",
       "      <td>0.0</td>\n",
       "      <td>0.000000</td>\n",
       "      <td>0.544219</td>\n",
       "      <td>0.000000</td>\n",
       "      <td>0.544219</td>\n",
       "      <td>0.0</td>\n",
       "      <td>0.0</td>\n",
       "      <td>126538.500</td>\n",
       "    </tr>\n",
       "    <tr>\n",
       "      <th>1</th>\n",
       "      <td>1.258925</td>\n",
       "      <td>30779.795</td>\n",
       "      <td>2874.0811</td>\n",
       "      <td>3720.1666</td>\n",
       "      <td>0.000000</td>\n",
       "      <td>0.686758</td>\n",
       "      <td>0.0</td>\n",
       "      <td>0.000000</td>\n",
       "      <td>0.343379</td>\n",
       "      <td>0.686758</td>\n",
       "      <td>0.000000</td>\n",
       "      <td>0.0</td>\n",
       "      <td>0.0</td>\n",
       "      <td>37375.759</td>\n",
       "    </tr>\n",
       "    <tr>\n",
       "      <th>2</th>\n",
       "      <td>1.584893</td>\n",
       "      <td>27764.431</td>\n",
       "      <td>2606.1721</td>\n",
       "      <td>3512.4500</td>\n",
       "      <td>0.216657</td>\n",
       "      <td>0.000000</td>\n",
       "      <td>0.0</td>\n",
       "      <td>0.000000</td>\n",
       "      <td>0.216657</td>\n",
       "      <td>0.000000</td>\n",
       "      <td>0.649972</td>\n",
       "      <td>0.0</td>\n",
       "      <td>0.0</td>\n",
       "      <td>33884.137</td>\n",
       "    </tr>\n",
       "    <tr>\n",
       "      <th>3</th>\n",
       "      <td>1.995262</td>\n",
       "      <td>24988.640</td>\n",
       "      <td>2333.4961</td>\n",
       "      <td>3134.4307</td>\n",
       "      <td>0.273403</td>\n",
       "      <td>0.136702</td>\n",
       "      <td>0.0</td>\n",
       "      <td>0.273403</td>\n",
       "      <td>0.273403</td>\n",
       "      <td>0.136702</td>\n",
       "      <td>0.546806</td>\n",
       "      <td>0.0</td>\n",
       "      <td>0.0</td>\n",
       "      <td>30458.207</td>\n",
       "    </tr>\n",
       "    <tr>\n",
       "      <th>4</th>\n",
       "      <td>2.511886</td>\n",
       "      <td>22078.665</td>\n",
       "      <td>2057.3035</td>\n",
       "      <td>2826.5928</td>\n",
       "      <td>0.258759</td>\n",
       "      <td>0.000000</td>\n",
       "      <td>0.0</td>\n",
       "      <td>0.086253</td>\n",
       "      <td>0.172506</td>\n",
       "      <td>0.000000</td>\n",
       "      <td>0.086253</td>\n",
       "      <td>0.0</td>\n",
       "      <td>0.0</td>\n",
       "      <td>26963.165</td>\n",
       "    </tr>\n",
       "  </tbody>\n",
       "</table>\n",
       "</div>"
      ],
      "text/plain": [
       "   distance_in_bin      N_phot       N_e+        N_e-     N_mu+     N_mu-  \\\n",
       "0         1.000000  104826.890  9585.8704  12123.5630  1.088438  0.000000   \n",
       "1         1.258925   30779.795  2874.0811   3720.1666  0.000000  0.686758   \n",
       "2         1.584893   27764.431  2606.1721   3512.4500  0.216657  0.000000   \n",
       "3         1.995262   24988.640  2333.4961   3134.4307  0.273403  0.136702   \n",
       "4         2.511886   22078.665  2057.3035   2826.5928  0.258759  0.000000   \n",
       "\n",
       "   N_pi0     N_pi+     N_pi-       N_n       N_p  N_pbar  N_others  \\\n",
       "0    0.0  0.000000  0.544219  0.000000  0.544219     0.0       0.0   \n",
       "1    0.0  0.000000  0.343379  0.686758  0.000000     0.0       0.0   \n",
       "2    0.0  0.000000  0.216657  0.000000  0.649972     0.0       0.0   \n",
       "3    0.0  0.273403  0.273403  0.136702  0.546806     0.0       0.0   \n",
       "4    0.0  0.086253  0.172506  0.000000  0.086253     0.0       0.0   \n",
       "\n",
       "   Total_per_bin  \n",
       "0     126538.500  \n",
       "1      37375.759  \n",
       "2      33884.137  \n",
       "3      30458.207  \n",
       "4      26963.165  "
      ]
     },
     "execution_count": 24,
     "metadata": {},
     "output_type": "execute_result"
    }
   ],
   "source": [
    "ds2.head()"
   ]
  },
  {
   "cell_type": "code",
   "execution_count": 25,
   "metadata": {
    "scrolled": false
   },
   "outputs": [
    {
     "data": {
      "text/plain": [
       "<matplotlib.legend.Legend at 0x7f560293cd30>"
      ]
     },
     "execution_count": 25,
     "metadata": {},
     "output_type": "execute_result"
    },
    {
     "data": {
      "image/png": "[encoded data removed]",
      "text/plain": [
       "<Figure size 720x576 with 1 Axes>"
      ]
     },
     "metadata": {
      "needs_background": "light"
     },
     "output_type": "display_data"
    }
   ],
   "source": [
    "plt.figure(figsize=(10,8))\n",
    "plt.step(ds2[\"distance_in_bin\"], ds2[\"N_phot\"]/100000, c=\"k\", label=r\"$\\gamma$\")\n",
    "plt.step(ds2[\"distance_in_bin\"], (ds2[\"N_e+\"]+ds2[\"N_e-\"])/100000, c=\"r\", label=r\"$e^{+}e^{-}$\")\n",
    "plt.step(ds2[\"distance_in_bin\"], (ds2[\"N_mu+\"]+ds2[\"N_mu-\"])/100000, c=\"b\", label=r\"$\\mu^{+}\\mu^{-}$\")\n",
    "plt.xscale(\"log\")\n",
    "plt.yscale(\"log\")\n",
    "#plt.xlim(0, 200)\n",
    "plt.title(r\"LDF Chacaltaya lluvia promedio, $\\alpha$=-2.70\", fontsize=22)\n",
    "plt.xlabel(\"Distancia al core, m\")\n",
    "plt.ylabel(r\"Flujo normalizado, part/m$^2$\")\n",
    "plt.legend(fontsize=20)"
   ]
  },
  {
   "cell_type": "code",
   "execution_count": 26,
   "metadata": {},
   "outputs": [],
   "source": [
    "de2=pd.read_csv(r\"salida_cha_grb_270.dse\", delimiter=\" \")"
   ]
  },
  {
   "cell_type": "code",
   "execution_count": 27,
   "metadata": {
    "scrolled": false
   },
   "outputs": [
    {
     "name": "stdout",
     "output_type": "stream",
     "text": [
      "<class 'pandas.core.frame.DataFrame'>\n",
      "RangeIndex: 43 entries, 0 to 42\n",
      "Data columns (total 14 columns):\n",
      " #   Column           Non-Null Count  Dtype  \n",
      "---  ------           --------------  -----  \n",
      " 0   distance_in_bin  43 non-null     float64\n",
      " 1   E_phot           43 non-null     float64\n",
      " 2   E_e+             43 non-null     float64\n",
      " 3   E_e-             43 non-null     float64\n",
      " 4   E_mu+            43 non-null     float64\n",
      " 5   E_mu-            43 non-null     float64\n",
      " 6   E_pi0            43 non-null     float64\n",
      " 7   E_pi+            43 non-null     float64\n",
      " 8   E_pi-            43 non-null     float64\n",
      " 9   E_n              43 non-null     float64\n",
      " 10  E_p              43 non-null     float64\n",
      " 11  E_pbar           43 non-null     float64\n",
      " 12  E_others         43 non-null     float64\n",
      " 13  Total_E_per_bin  43 non-null     float64\n",
      "dtypes: float64(14)\n",
      "memory usage: 4.8 KB\n"
     ]
    }
   ],
   "source": [
    "de2.info()"
   ]
  },
  {
   "cell_type": "code",
   "execution_count": 28,
   "metadata": {
    "scrolled": true
   },
   "outputs": [
    {
     "data": {
      "text/html": [
       "<div>\n",
       "<style scoped>\n",
       "    .dataframe tbody tr th:only-of-type {\n",
       "        vertical-align: middle;\n",
       "    }\n",
       "\n",
       "    .dataframe tbody tr th {\n",
       "        vertical-align: top;\n",
       "    }\n",
       "\n",
       "    .dataframe thead th {\n",
       "        text-align: right;\n",
       "    }\n",
       "</style>\n",
       "<table border=\"1\" class=\"dataframe\">\n",
       "  <thead>\n",
       "    <tr style=\"text-align: right;\">\n",
       "      <th></th>\n",
       "      <th>distance_in_bin</th>\n",
       "      <th>E_phot</th>\n",
       "      <th>E_e+</th>\n",
       "      <th>E_e-</th>\n",
       "      <th>E_mu+</th>\n",
       "      <th>E_mu-</th>\n",
       "      <th>E_pi0</th>\n",
       "      <th>E_pi+</th>\n",
       "      <th>E_pi-</th>\n",
       "      <th>E_n</th>\n",
       "      <th>E_p</th>\n",
       "      <th>E_pbar</th>\n",
       "      <th>E_others</th>\n",
       "      <th>Total_E_per_bin</th>\n",
       "    </tr>\n",
       "  </thead>\n",
       "  <tbody>\n",
       "    <tr>\n",
       "      <th>0</th>\n",
       "      <td>1.000000</td>\n",
       "      <td>48185.9590</td>\n",
       "      <td>15156.0080</td>\n",
       "      <td>14464.4690</td>\n",
       "      <td>21.250607</td>\n",
       "      <td>0.000000</td>\n",
       "      <td>0.0</td>\n",
       "      <td>0.000000</td>\n",
       "      <td>0.168066</td>\n",
       "      <td>0.000000</td>\n",
       "      <td>0.563495</td>\n",
       "      <td>0.0</td>\n",
       "      <td>0.0</td>\n",
       "      <td>77828.4170</td>\n",
       "    </tr>\n",
       "    <tr>\n",
       "      <th>1</th>\n",
       "      <td>1.258925</td>\n",
       "      <td>8551.1472</td>\n",
       "      <td>2479.7716</td>\n",
       "      <td>2431.3541</td>\n",
       "      <td>0.000000</td>\n",
       "      <td>0.642716</td>\n",
       "      <td>0.0</td>\n",
       "      <td>0.000000</td>\n",
       "      <td>0.096707</td>\n",
       "      <td>0.727099</td>\n",
       "      <td>0.000000</td>\n",
       "      <td>0.0</td>\n",
       "      <td>0.0</td>\n",
       "      <td>13463.7390</td>\n",
       "    </tr>\n",
       "    <tr>\n",
       "      <th>2</th>\n",
       "      <td>1.584893</td>\n",
       "      <td>6849.5532</td>\n",
       "      <td>1958.7900</td>\n",
       "      <td>2094.3078</td>\n",
       "      <td>0.089310</td>\n",
       "      <td>0.000000</td>\n",
       "      <td>0.0</td>\n",
       "      <td>0.000000</td>\n",
       "      <td>0.238201</td>\n",
       "      <td>0.000000</td>\n",
       "      <td>0.697980</td>\n",
       "      <td>0.0</td>\n",
       "      <td>0.0</td>\n",
       "      <td>10903.6760</td>\n",
       "    </tr>\n",
       "    <tr>\n",
       "      <th>3</th>\n",
       "      <td>1.995262</td>\n",
       "      <td>5282.2272</td>\n",
       "      <td>1494.5363</td>\n",
       "      <td>1549.6052</td>\n",
       "      <td>0.992662</td>\n",
       "      <td>0.076797</td>\n",
       "      <td>0.0</td>\n",
       "      <td>1.354248</td>\n",
       "      <td>0.807702</td>\n",
       "      <td>0.136135</td>\n",
       "      <td>0.559002</td>\n",
       "      <td>0.0</td>\n",
       "      <td>0.0</td>\n",
       "      <td>8330.2953</td>\n",
       "    </tr>\n",
       "    <tr>\n",
       "      <th>4</th>\n",
       "      <td>2.511886</td>\n",
       "      <td>3996.8739</td>\n",
       "      <td>1092.6455</td>\n",
       "      <td>1167.6865</td>\n",
       "      <td>5.251296</td>\n",
       "      <td>0.000000</td>\n",
       "      <td>0.0</td>\n",
       "      <td>0.136218</td>\n",
       "      <td>7.430996</td>\n",
       "      <td>0.000000</td>\n",
       "      <td>0.098685</td>\n",
       "      <td>0.0</td>\n",
       "      <td>0.0</td>\n",
       "      <td>6270.1231</td>\n",
       "    </tr>\n",
       "  </tbody>\n",
       "</table>\n",
       "</div>"
      ],
      "text/plain": [
       "   distance_in_bin      E_phot        E_e+        E_e-      E_mu+     E_mu-  \\\n",
       "0         1.000000  48185.9590  15156.0080  14464.4690  21.250607  0.000000   \n",
       "1         1.258925   8551.1472   2479.7716   2431.3541   0.000000  0.642716   \n",
       "2         1.584893   6849.5532   1958.7900   2094.3078   0.089310  0.000000   \n",
       "3         1.995262   5282.2272   1494.5363   1549.6052   0.992662  0.076797   \n",
       "4         2.511886   3996.8739   1092.6455   1167.6865   5.251296  0.000000   \n",
       "\n",
       "   E_pi0     E_pi+     E_pi-       E_n       E_p  E_pbar  E_others  \\\n",
       "0    0.0  0.000000  0.168066  0.000000  0.563495     0.0       0.0   \n",
       "1    0.0  0.000000  0.096707  0.727099  0.000000     0.0       0.0   \n",
       "2    0.0  0.000000  0.238201  0.000000  0.697980     0.0       0.0   \n",
       "3    0.0  1.354248  0.807702  0.136135  0.559002     0.0       0.0   \n",
       "4    0.0  0.136218  7.430996  0.000000  0.098685     0.0       0.0   \n",
       "\n",
       "   Total_E_per_bin  \n",
       "0       77828.4170  \n",
       "1       13463.7390  \n",
       "2       10903.6760  \n",
       "3        8330.2953  \n",
       "4        6270.1231  "
      ]
     },
     "execution_count": 28,
     "metadata": {},
     "output_type": "execute_result"
    }
   ],
   "source": [
    "de2.head()"
   ]
  },
  {
   "cell_type": "code",
   "execution_count": 29,
   "metadata": {
    "scrolled": false
   },
   "outputs": [
    {
     "data": {
      "text/plain": [
       "<matplotlib.legend.Legend at 0x7f5602ca1b00>"
      ]
     },
     "execution_count": 29,
     "metadata": {},
     "output_type": "execute_result"
    },
    {
     "data": {
      "image/png": "[encoded data removed]",
      "text/plain": [
       "<Figure size 720x576 with 1 Axes>"
      ]
     },
     "metadata": {
      "needs_background": "light"
     },
     "output_type": "display_data"
    }
   ],
   "source": [
    "plt.figure(figsize=(10,8))\n",
    "plt.step(de2[\"distance_in_bin\"], de2[\"E_phot\"]/100000, c=\"k\", label=r\"$\\gamma$\")\n",
    "plt.step(de2[\"distance_in_bin\"], (de2[\"E_e+\"]+de2[\"E_e-\"])/100000, c=\"r\", label=r\"$e^{+}e^{-}$\")\n",
    "plt.step(de2[\"distance_in_bin\"], (de2[\"E_mu+\"]+de2[\"E_mu-\"])/100000, c=\"b\", label=r\"$\\mu^{+}\\mu^{-}$\")\n",
    "plt.xscale(\"log\")\n",
    "plt.yscale(\"log\")\n",
    "#plt.xlim(0, 200)\n",
    "plt.title(r\"LDF Chacaltaya lluvia promedio, $\\alpha$=-2.70\", fontsize=22)\n",
    "plt.xlabel(\"Distancia al core, m\")\n",
    "plt.ylabel(r\"Energy fluence, GeV/m$^2$\")\n",
    "plt.legend(fontsize=20)"
   ]
  },
  {
   "cell_type": "markdown",
   "metadata": {},
   "source": [
    "## GRB para $\\alpha$ = -3.37"
   ]
  },
  {
   "cell_type": "markdown",
   "metadata": {},
   "source": [
    "### Simulaciones\n",
    "\n",
    "- 10.000 fotones\n",
    "- Energía 0.1 TeV - 2TeV\n",
    "- h = 5200 m s.n.m\n",
    "- $\\gamma$ = -2.37\n",
    "- $\\theta$ = 0$^{\\circ}$\n",
    "- $\\phi$ = -180$^{\\circ}$ - 180$^{\\circ}$"
   ]
  },
  {
   "cell_type": "code",
   "execution_count": 30,
   "metadata": {},
   "outputs": [],
   "source": [
    "ds3=pd.read_csv(r\"salida_cha_grb_337.dst\", delimiter=\" \")"
   ]
  },
  {
   "cell_type": "code",
   "execution_count": 31,
   "metadata": {
    "scrolled": false
   },
   "outputs": [
    {
     "name": "stdout",
     "output_type": "stream",
     "text": [
      "<class 'pandas.core.frame.DataFrame'>\n",
      "RangeIndex: 43 entries, 0 to 42\n",
      "Data columns (total 14 columns):\n",
      " #   Column           Non-Null Count  Dtype  \n",
      "---  ------           --------------  -----  \n",
      " 0   distance_in_bin  43 non-null     float64\n",
      " 1   N_phot           43 non-null     float64\n",
      " 2   N_e+             43 non-null     float64\n",
      " 3   N_e-             43 non-null     float64\n",
      " 4   N_mu+            43 non-null     float64\n",
      " 5   N_mu-            43 non-null     float64\n",
      " 6   N_pi0            43 non-null     float64\n",
      " 7   N_pi+            43 non-null     float64\n",
      " 8   N_pi-            43 non-null     float64\n",
      " 9   N_n              43 non-null     float64\n",
      " 10  N_p              43 non-null     float64\n",
      " 11  N_pbar           43 non-null     float64\n",
      " 12  N_others         43 non-null     float64\n",
      " 13  Total_per_bin    43 non-null     float64\n",
      "dtypes: float64(14)\n",
      "memory usage: 4.8 KB\n"
     ]
    }
   ],
   "source": [
    "ds3.info()"
   ]
  },
  {
   "cell_type": "code",
   "execution_count": 32,
   "metadata": {
    "scrolled": true
   },
   "outputs": [
    {
     "data": {
      "text/html": [
       "<div>\n",
       "<style scoped>\n",
       "    .dataframe tbody tr th:only-of-type {\n",
       "        vertical-align: middle;\n",
       "    }\n",
       "\n",
       "    .dataframe tbody tr th {\n",
       "        vertical-align: top;\n",
       "    }\n",
       "\n",
       "    .dataframe thead th {\n",
       "        text-align: right;\n",
       "    }\n",
       "</style>\n",
       "<table border=\"1\" class=\"dataframe\">\n",
       "  <thead>\n",
       "    <tr style=\"text-align: right;\">\n",
       "      <th></th>\n",
       "      <th>distance_in_bin</th>\n",
       "      <th>N_phot</th>\n",
       "      <th>N_e+</th>\n",
       "      <th>N_e-</th>\n",
       "      <th>N_mu+</th>\n",
       "      <th>N_mu-</th>\n",
       "      <th>N_pi0</th>\n",
       "      <th>N_pi+</th>\n",
       "      <th>N_pi-</th>\n",
       "      <th>N_n</th>\n",
       "      <th>N_p</th>\n",
       "      <th>N_pbar</th>\n",
       "      <th>N_others</th>\n",
       "      <th>Total_per_bin</th>\n",
       "    </tr>\n",
       "  </thead>\n",
       "  <tbody>\n",
       "    <tr>\n",
       "      <th>0</th>\n",
       "      <td>1.000000</td>\n",
       "      <td>84032.285</td>\n",
       "      <td>7594.0295</td>\n",
       "      <td>9725.1904</td>\n",
       "      <td>0.544219</td>\n",
       "      <td>0.544219</td>\n",
       "      <td>0.0</td>\n",
       "      <td>1.088438</td>\n",
       "      <td>1.088438</td>\n",
       "      <td>1.088438</td>\n",
       "      <td>0.000000</td>\n",
       "      <td>0.0</td>\n",
       "      <td>0.0</td>\n",
       "      <td>101355.860</td>\n",
       "    </tr>\n",
       "    <tr>\n",
       "      <th>1</th>\n",
       "      <td>1.258925</td>\n",
       "      <td>24892.907</td>\n",
       "      <td>2344.5909</td>\n",
       "      <td>3003.5349</td>\n",
       "      <td>0.000000</td>\n",
       "      <td>0.000000</td>\n",
       "      <td>0.0</td>\n",
       "      <td>0.686758</td>\n",
       "      <td>0.343379</td>\n",
       "      <td>0.343379</td>\n",
       "      <td>0.000000</td>\n",
       "      <td>0.0</td>\n",
       "      <td>0.0</td>\n",
       "      <td>30242.407</td>\n",
       "    </tr>\n",
       "    <tr>\n",
       "      <th>2</th>\n",
       "      <td>1.584893</td>\n",
       "      <td>22510.056</td>\n",
       "      <td>2074.0615</td>\n",
       "      <td>2762.1654</td>\n",
       "      <td>0.000000</td>\n",
       "      <td>0.216657</td>\n",
       "      <td>0.0</td>\n",
       "      <td>0.000000</td>\n",
       "      <td>0.216657</td>\n",
       "      <td>0.433315</td>\n",
       "      <td>0.000000</td>\n",
       "      <td>0.0</td>\n",
       "      <td>0.0</td>\n",
       "      <td>27347.149</td>\n",
       "    </tr>\n",
       "    <tr>\n",
       "      <th>3</th>\n",
       "      <td>1.995262</td>\n",
       "      <td>20366.486</td>\n",
       "      <td>1884.7048</td>\n",
       "      <td>2560.2840</td>\n",
       "      <td>0.136702</td>\n",
       "      <td>0.136702</td>\n",
       "      <td>0.0</td>\n",
       "      <td>0.000000</td>\n",
       "      <td>0.136702</td>\n",
       "      <td>0.000000</td>\n",
       "      <td>0.136702</td>\n",
       "      <td>0.0</td>\n",
       "      <td>0.0</td>\n",
       "      <td>24812.022</td>\n",
       "    </tr>\n",
       "    <tr>\n",
       "      <th>4</th>\n",
       "      <td>2.511886</td>\n",
       "      <td>17947.842</td>\n",
       "      <td>1680.5509</td>\n",
       "      <td>2287.4261</td>\n",
       "      <td>0.000000</td>\n",
       "      <td>0.172506</td>\n",
       "      <td>0.0</td>\n",
       "      <td>0.000000</td>\n",
       "      <td>0.172506</td>\n",
       "      <td>0.000000</td>\n",
       "      <td>0.086253</td>\n",
       "      <td>0.0</td>\n",
       "      <td>0.0</td>\n",
       "      <td>21916.251</td>\n",
       "    </tr>\n",
       "  </tbody>\n",
       "</table>\n",
       "</div>"
      ],
      "text/plain": [
       "   distance_in_bin     N_phot       N_e+       N_e-     N_mu+     N_mu-  \\\n",
       "0         1.000000  84032.285  7594.0295  9725.1904  0.544219  0.544219   \n",
       "1         1.258925  24892.907  2344.5909  3003.5349  0.000000  0.000000   \n",
       "2         1.584893  22510.056  2074.0615  2762.1654  0.000000  0.216657   \n",
       "3         1.995262  20366.486  1884.7048  2560.2840  0.136702  0.136702   \n",
       "4         2.511886  17947.842  1680.5509  2287.4261  0.000000  0.172506   \n",
       "\n",
       "   N_pi0     N_pi+     N_pi-       N_n       N_p  N_pbar  N_others  \\\n",
       "0    0.0  1.088438  1.088438  1.088438  0.000000     0.0       0.0   \n",
       "1    0.0  0.686758  0.343379  0.343379  0.000000     0.0       0.0   \n",
       "2    0.0  0.000000  0.216657  0.433315  0.000000     0.0       0.0   \n",
       "3    0.0  0.000000  0.136702  0.000000  0.136702     0.0       0.0   \n",
       "4    0.0  0.000000  0.172506  0.000000  0.086253     0.0       0.0   \n",
       "\n",
       "   Total_per_bin  \n",
       "0     101355.860  \n",
       "1      30242.407  \n",
       "2      27347.149  \n",
       "3      24812.022  \n",
       "4      21916.251  "
      ]
     },
     "execution_count": 32,
     "metadata": {},
     "output_type": "execute_result"
    }
   ],
   "source": [
    "ds3.head()"
   ]
  },
  {
   "cell_type": "code",
   "execution_count": 33,
   "metadata": {
    "scrolled": false
   },
   "outputs": [
    {
     "data": {
      "text/plain": [
       "<matplotlib.legend.Legend at 0x7f5641cec240>"
      ]
     },
     "execution_count": 33,
     "metadata": {},
     "output_type": "execute_result"
    },
    {
     "data": {
      "image/png": "[encoded data removed]",
      "text/plain": [
       "<Figure size 720x576 with 1 Axes>"
      ]
     },
     "metadata": {
      "needs_background": "light"
     },
     "output_type": "display_data"
    }
   ],
   "source": [
    "plt.figure(figsize=(10,8))\n",
    "plt.step(ds3[\"distance_in_bin\"], ds3[\"N_phot\"]/100000, c=\"k\", label=r\"$\\gamma$\")\n",
    "plt.step(ds3[\"distance_in_bin\"], (ds3[\"N_e+\"]+ds3[\"N_e-\"])/100000, c=\"r\", label=r\"$e^{+}e^{-}$\")\n",
    "plt.step(ds3[\"distance_in_bin\"], (ds3[\"N_mu+\"]+ds3[\"N_mu-\"])/100000, c=\"b\", label=r\"$\\mu^{+}\\mu^{-}$\")\n",
    "plt.xscale(\"log\")\n",
    "plt.yscale(\"log\")\n",
    "#plt.xlim(0, 200)\n",
    "plt.title(r\"LDF Chacaltaya lluvia promedio, $\\alpha$=-3.37\", fontsize=22)\n",
    "plt.xlabel(\"Distancia al core, m\")\n",
    "plt.ylabel(r\"Flujo normalizado, part/m$^2$\")\n",
    "plt.legend(fontsize=20)"
   ]
  },
  {
   "cell_type": "code",
   "execution_count": 34,
   "metadata": {},
   "outputs": [],
   "source": [
    "de3=pd.read_csv(r\"salida_cha_grb_337.dse\", delimiter=\" \")"
   ]
  },
  {
   "cell_type": "code",
   "execution_count": 35,
   "metadata": {
    "scrolled": false
   },
   "outputs": [
    {
     "name": "stdout",
     "output_type": "stream",
     "text": [
      "<class 'pandas.core.frame.DataFrame'>\n",
      "RangeIndex: 43 entries, 0 to 42\n",
      "Data columns (total 14 columns):\n",
      " #   Column           Non-Null Count  Dtype  \n",
      "---  ------           --------------  -----  \n",
      " 0   distance_in_bin  43 non-null     float64\n",
      " 1   E_phot           43 non-null     float64\n",
      " 2   E_e+             43 non-null     float64\n",
      " 3   E_e-             43 non-null     float64\n",
      " 4   E_mu+            43 non-null     float64\n",
      " 5   E_mu-            43 non-null     float64\n",
      " 6   E_pi0            43 non-null     float64\n",
      " 7   E_pi+            43 non-null     float64\n",
      " 8   E_pi-            43 non-null     float64\n",
      " 9   E_n              43 non-null     float64\n",
      " 10  E_p              43 non-null     float64\n",
      " 11  E_pbar           43 non-null     float64\n",
      " 12  E_others         43 non-null     float64\n",
      " 13  Total_E_per_bin  43 non-null     float64\n",
      "dtypes: float64(14)\n",
      "memory usage: 4.8 KB\n"
     ]
    }
   ],
   "source": [
    "de3.info()"
   ]
  },
  {
   "cell_type": "code",
   "execution_count": 36,
   "metadata": {
    "scrolled": true
   },
   "outputs": [
    {
     "data": {
      "text/html": [
       "<div>\n",
       "<style scoped>\n",
       "    .dataframe tbody tr th:only-of-type {\n",
       "        vertical-align: middle;\n",
       "    }\n",
       "\n",
       "    .dataframe tbody tr th {\n",
       "        vertical-align: top;\n",
       "    }\n",
       "\n",
       "    .dataframe thead th {\n",
       "        text-align: right;\n",
       "    }\n",
       "</style>\n",
       "<table border=\"1\" class=\"dataframe\">\n",
       "  <thead>\n",
       "    <tr style=\"text-align: right;\">\n",
       "      <th></th>\n",
       "      <th>distance_in_bin</th>\n",
       "      <th>E_phot</th>\n",
       "      <th>E_e+</th>\n",
       "      <th>E_e-</th>\n",
       "      <th>E_mu+</th>\n",
       "      <th>E_mu-</th>\n",
       "      <th>E_pi0</th>\n",
       "      <th>E_pi+</th>\n",
       "      <th>E_pi-</th>\n",
       "      <th>E_n</th>\n",
       "      <th>E_p</th>\n",
       "      <th>E_pbar</th>\n",
       "      <th>E_others</th>\n",
       "      <th>Total_E_per_bin</th>\n",
       "    </tr>\n",
       "  </thead>\n",
       "  <tbody>\n",
       "    <tr>\n",
       "      <th>0</th>\n",
       "      <td>1.000000</td>\n",
       "      <td>38664.4300</td>\n",
       "      <td>11119.82300</td>\n",
       "      <td>11751.75300</td>\n",
       "      <td>0.357860</td>\n",
       "      <td>19.463531</td>\n",
       "      <td>0.0</td>\n",
       "      <td>3.023302</td>\n",
       "      <td>3.977846</td>\n",
       "      <td>1.094848</td>\n",
       "      <td>0.000000</td>\n",
       "      <td>0.0</td>\n",
       "      <td>0.0</td>\n",
       "      <td>61563.9230</td>\n",
       "    </tr>\n",
       "    <tr>\n",
       "      <th>1</th>\n",
       "      <td>1.258925</td>\n",
       "      <td>7042.9440</td>\n",
       "      <td>2073.64460</td>\n",
       "      <td>2054.05770</td>\n",
       "      <td>0.000000</td>\n",
       "      <td>0.000000</td>\n",
       "      <td>0.0</td>\n",
       "      <td>0.539940</td>\n",
       "      <td>0.106429</td>\n",
       "      <td>0.355671</td>\n",
       "      <td>0.000000</td>\n",
       "      <td>0.0</td>\n",
       "      <td>0.0</td>\n",
       "      <td>11171.6480</td>\n",
       "    </tr>\n",
       "    <tr>\n",
       "      <th>2</th>\n",
       "      <td>1.584893</td>\n",
       "      <td>5395.1782</td>\n",
       "      <td>1621.63350</td>\n",
       "      <td>1627.40930</td>\n",
       "      <td>0.000000</td>\n",
       "      <td>0.510512</td>\n",
       "      <td>0.0</td>\n",
       "      <td>0.000000</td>\n",
       "      <td>0.306564</td>\n",
       "      <td>0.473437</td>\n",
       "      <td>0.000000</td>\n",
       "      <td>0.0</td>\n",
       "      <td>0.0</td>\n",
       "      <td>8645.5115</td>\n",
       "    </tr>\n",
       "    <tr>\n",
       "      <th>3</th>\n",
       "      <td>1.995262</td>\n",
       "      <td>4153.1745</td>\n",
       "      <td>1228.49820</td>\n",
       "      <td>1247.88490</td>\n",
       "      <td>0.143807</td>\n",
       "      <td>0.039685</td>\n",
       "      <td>0.0</td>\n",
       "      <td>0.000000</td>\n",
       "      <td>0.086322</td>\n",
       "      <td>0.000000</td>\n",
       "      <td>0.165841</td>\n",
       "      <td>0.0</td>\n",
       "      <td>0.0</td>\n",
       "      <td>6629.9932</td>\n",
       "    </tr>\n",
       "    <tr>\n",
       "      <th>4</th>\n",
       "      <td>2.511886</td>\n",
       "      <td>3175.9926</td>\n",
       "      <td>908.12107</td>\n",
       "      <td>922.26269</td>\n",
       "      <td>0.000000</td>\n",
       "      <td>7.226209</td>\n",
       "      <td>0.0</td>\n",
       "      <td>0.000000</td>\n",
       "      <td>0.499046</td>\n",
       "      <td>0.000000</td>\n",
       "      <td>0.090272</td>\n",
       "      <td>0.0</td>\n",
       "      <td>0.0</td>\n",
       "      <td>5014.1919</td>\n",
       "    </tr>\n",
       "  </tbody>\n",
       "</table>\n",
       "</div>"
      ],
      "text/plain": [
       "   distance_in_bin      E_phot         E_e+         E_e-     E_mu+      E_mu-  \\\n",
       "0         1.000000  38664.4300  11119.82300  11751.75300  0.357860  19.463531   \n",
       "1         1.258925   7042.9440   2073.64460   2054.05770  0.000000   0.000000   \n",
       "2         1.584893   5395.1782   1621.63350   1627.40930  0.000000   0.510512   \n",
       "3         1.995262   4153.1745   1228.49820   1247.88490  0.143807   0.039685   \n",
       "4         2.511886   3175.9926    908.12107    922.26269  0.000000   7.226209   \n",
       "\n",
       "   E_pi0     E_pi+     E_pi-       E_n       E_p  E_pbar  E_others  \\\n",
       "0    0.0  3.023302  3.977846  1.094848  0.000000     0.0       0.0   \n",
       "1    0.0  0.539940  0.106429  0.355671  0.000000     0.0       0.0   \n",
       "2    0.0  0.000000  0.306564  0.473437  0.000000     0.0       0.0   \n",
       "3    0.0  0.000000  0.086322  0.000000  0.165841     0.0       0.0   \n",
       "4    0.0  0.000000  0.499046  0.000000  0.090272     0.0       0.0   \n",
       "\n",
       "   Total_E_per_bin  \n",
       "0       61563.9230  \n",
       "1       11171.6480  \n",
       "2        8645.5115  \n",
       "3        6629.9932  \n",
       "4        5014.1919  "
      ]
     },
     "execution_count": 36,
     "metadata": {},
     "output_type": "execute_result"
    }
   ],
   "source": [
    "de3.head()"
   ]
  },
  {
   "cell_type": "code",
   "execution_count": 37,
   "metadata": {
    "scrolled": false
   },
   "outputs": [
    {
     "data": {
      "text/plain": [
       "<matplotlib.legend.Legend at 0x7f5602b680f0>"
      ]
     },
     "execution_count": 37,
     "metadata": {},
     "output_type": "execute_result"
    },
    {
     "data": {
      "image/png": "[encoded data removed]",
      "text/plain": [
       "<Figure size 720x576 with 1 Axes>"
      ]
     },
     "metadata": {
      "needs_background": "light"
     },
     "output_type": "display_data"
    }
   ],
   "source": [
    "plt.figure(figsize=(10,8))\n",
    "plt.step(de3[\"distance_in_bin\"], de3[\"E_phot\"]/100000, c=\"k\", label=r\"$\\gamma$\")\n",
    "plt.step(de3[\"distance_in_bin\"], (de3[\"E_e+\"]+de3[\"E_e-\"])/100000, c=\"r\", label=r\"$e^{+}e^{-}$\")\n",
    "plt.step(de3[\"distance_in_bin\"], (de3[\"E_mu+\"]+de3[\"E_mu-\"])/100000, c=\"b\", label=r\"$\\mu^{+}\\mu^{-}$\")\n",
    "plt.xscale(\"log\")\n",
    "plt.yscale(\"log\")\n",
    "#plt.xlim(0, 200)\n",
    "plt.title(r\"LDF Chacaltaya lluvia promedio, $\\alpha$=-3.37\", fontsize=22)\n",
    "plt.xlabel(\"Distancia al core, m\")\n",
    "plt.ylabel(r\"Energy fluence, GeV/m$^2$\")\n",
    "plt.legend(fontsize=20)"
   ]
  },
  {
   "cell_type": "markdown",
   "metadata": {},
   "source": [
    "## GRB para $\\alpha$ = -5.43"
   ]
  },
  {
   "cell_type": "markdown",
   "metadata": {},
   "source": [
    "### Simulaciones\n",
    "\n",
    "- 10.000 fotones\n",
    "- Energía 0.1 TeV - 2TeV\n",
    "- h = 5200 m s.n.m\n",
    "- $\\gamma$ = -2.37\n",
    "- $\\theta$ = 0$^{\\circ}$\n",
    "- $\\phi$ = -180$^{\\circ}$ - 180$^{\\circ}$"
   ]
  },
  {
   "cell_type": "code",
   "execution_count": 38,
   "metadata": {},
   "outputs": [],
   "source": [
    "ds4=pd.read_csv(r\"salida_cha_grb_543.dst\", delimiter=\" \")"
   ]
  },
  {
   "cell_type": "code",
   "execution_count": 39,
   "metadata": {
    "scrolled": false
   },
   "outputs": [
    {
     "name": "stdout",
     "output_type": "stream",
     "text": [
      "<class 'pandas.core.frame.DataFrame'>\n",
      "RangeIndex: 44 entries, 0 to 43\n",
      "Data columns (total 14 columns):\n",
      " #   Column           Non-Null Count  Dtype  \n",
      "---  ------           --------------  -----  \n",
      " 0   distance_in_bin  44 non-null     float64\n",
      " 1   N_phot           44 non-null     float64\n",
      " 2   N_e+             44 non-null     float64\n",
      " 3   N_e-             44 non-null     float64\n",
      " 4   N_mu+            44 non-null     float64\n",
      " 5   N_mu-            44 non-null     float64\n",
      " 6   N_pi0            44 non-null     float64\n",
      " 7   N_pi+            44 non-null     float64\n",
      " 8   N_pi-            44 non-null     float64\n",
      " 9   N_n              44 non-null     float64\n",
      " 10  N_p              44 non-null     float64\n",
      " 11  N_pbar           44 non-null     float64\n",
      " 12  N_others         44 non-null     float64\n",
      " 13  Total_per_bin    44 non-null     float64\n",
      "dtypes: float64(14)\n",
      "memory usage: 4.9 KB\n"
     ]
    }
   ],
   "source": [
    "ds4.info()"
   ]
  },
  {
   "cell_type": "code",
   "execution_count": 40,
   "metadata": {
    "scrolled": true
   },
   "outputs": [
    {
     "data": {
      "text/html": [
       "<div>\n",
       "<style scoped>\n",
       "    .dataframe tbody tr th:only-of-type {\n",
       "        vertical-align: middle;\n",
       "    }\n",
       "\n",
       "    .dataframe tbody tr th {\n",
       "        vertical-align: top;\n",
       "    }\n",
       "\n",
       "    .dataframe thead th {\n",
       "        text-align: right;\n",
       "    }\n",
       "</style>\n",
       "<table border=\"1\" class=\"dataframe\">\n",
       "  <thead>\n",
       "    <tr style=\"text-align: right;\">\n",
       "      <th></th>\n",
       "      <th>distance_in_bin</th>\n",
       "      <th>N_phot</th>\n",
       "      <th>N_e+</th>\n",
       "      <th>N_e-</th>\n",
       "      <th>N_mu+</th>\n",
       "      <th>N_mu-</th>\n",
       "      <th>N_pi0</th>\n",
       "      <th>N_pi+</th>\n",
       "      <th>N_pi-</th>\n",
       "      <th>N_n</th>\n",
       "      <th>N_p</th>\n",
       "      <th>N_pbar</th>\n",
       "      <th>N_others</th>\n",
       "      <th>Total_per_bin</th>\n",
       "    </tr>\n",
       "  </thead>\n",
       "  <tbody>\n",
       "    <tr>\n",
       "      <th>0</th>\n",
       "      <td>1.000000</td>\n",
       "      <td>55392.769</td>\n",
       "      <td>4985.5887</td>\n",
       "      <td>6447.9046</td>\n",
       "      <td>0.000000</td>\n",
       "      <td>0.000000</td>\n",
       "      <td>0.0</td>\n",
       "      <td>0.000000</td>\n",
       "      <td>0.0</td>\n",
       "      <td>0.000000</td>\n",
       "      <td>0.544219</td>\n",
       "      <td>0.0</td>\n",
       "      <td>0.0</td>\n",
       "      <td>66826.806</td>\n",
       "    </tr>\n",
       "    <tr>\n",
       "      <th>1</th>\n",
       "      <td>1.258925</td>\n",
       "      <td>16514.463</td>\n",
       "      <td>1542.8012</td>\n",
       "      <td>2005.6759</td>\n",
       "      <td>0.000000</td>\n",
       "      <td>0.000000</td>\n",
       "      <td>0.0</td>\n",
       "      <td>0.000000</td>\n",
       "      <td>0.0</td>\n",
       "      <td>0.000000</td>\n",
       "      <td>0.000000</td>\n",
       "      <td>0.0</td>\n",
       "      <td>0.0</td>\n",
       "      <td>20062.940</td>\n",
       "    </tr>\n",
       "    <tr>\n",
       "      <th>2</th>\n",
       "      <td>1.584893</td>\n",
       "      <td>15017.176</td>\n",
       "      <td>1380.3244</td>\n",
       "      <td>1865.4204</td>\n",
       "      <td>0.433315</td>\n",
       "      <td>0.000000</td>\n",
       "      <td>0.0</td>\n",
       "      <td>0.216657</td>\n",
       "      <td>0.0</td>\n",
       "      <td>0.000000</td>\n",
       "      <td>0.000000</td>\n",
       "      <td>0.0</td>\n",
       "      <td>0.0</td>\n",
       "      <td>18263.570</td>\n",
       "    </tr>\n",
       "    <tr>\n",
       "      <th>3</th>\n",
       "      <td>1.995262</td>\n",
       "      <td>13669.339</td>\n",
       "      <td>1284.1747</td>\n",
       "      <td>1724.4905</td>\n",
       "      <td>0.136702</td>\n",
       "      <td>0.136702</td>\n",
       "      <td>0.0</td>\n",
       "      <td>0.000000</td>\n",
       "      <td>0.0</td>\n",
       "      <td>0.410105</td>\n",
       "      <td>0.273403</td>\n",
       "      <td>0.0</td>\n",
       "      <td>0.0</td>\n",
       "      <td>16678.961</td>\n",
       "    </tr>\n",
       "    <tr>\n",
       "      <th>4</th>\n",
       "      <td>2.511886</td>\n",
       "      <td>12281.374</td>\n",
       "      <td>1147.5945</td>\n",
       "      <td>1565.7484</td>\n",
       "      <td>0.000000</td>\n",
       "      <td>0.172506</td>\n",
       "      <td>0.0</td>\n",
       "      <td>0.000000</td>\n",
       "      <td>0.0</td>\n",
       "      <td>0.086253</td>\n",
       "      <td>0.345011</td>\n",
       "      <td>0.0</td>\n",
       "      <td>0.0</td>\n",
       "      <td>14995.320</td>\n",
       "    </tr>\n",
       "  </tbody>\n",
       "</table>\n",
       "</div>"
      ],
      "text/plain": [
       "   distance_in_bin     N_phot       N_e+       N_e-     N_mu+     N_mu-  \\\n",
       "0         1.000000  55392.769  4985.5887  6447.9046  0.000000  0.000000   \n",
       "1         1.258925  16514.463  1542.8012  2005.6759  0.000000  0.000000   \n",
       "2         1.584893  15017.176  1380.3244  1865.4204  0.433315  0.000000   \n",
       "3         1.995262  13669.339  1284.1747  1724.4905  0.136702  0.136702   \n",
       "4         2.511886  12281.374  1147.5945  1565.7484  0.000000  0.172506   \n",
       "\n",
       "   N_pi0     N_pi+  N_pi-       N_n       N_p  N_pbar  N_others  Total_per_bin  \n",
       "0    0.0  0.000000    0.0  0.000000  0.544219     0.0       0.0      66826.806  \n",
       "1    0.0  0.000000    0.0  0.000000  0.000000     0.0       0.0      20062.940  \n",
       "2    0.0  0.216657    0.0  0.000000  0.000000     0.0       0.0      18263.570  \n",
       "3    0.0  0.000000    0.0  0.410105  0.273403     0.0       0.0      16678.961  \n",
       "4    0.0  0.000000    0.0  0.086253  0.345011     0.0       0.0      14995.320  "
      ]
     },
     "execution_count": 40,
     "metadata": {},
     "output_type": "execute_result"
    }
   ],
   "source": [
    "ds4.head()"
   ]
  },
  {
   "cell_type": "code",
   "execution_count": 41,
   "metadata": {
    "scrolled": false
   },
   "outputs": [
    {
     "data": {
      "text/plain": [
       "<matplotlib.legend.Legend at 0x7f5602946550>"
      ]
     },
     "execution_count": 41,
     "metadata": {},
     "output_type": "execute_result"
    },
    {
     "data": {
      "image/png": "[encoded data removed]",
      "text/plain": [
       "<Figure size 720x576 with 1 Axes>"
      ]
     },
     "metadata": {
      "needs_background": "light"
     },
     "output_type": "display_data"
    }
   ],
   "source": [
    "plt.figure(figsize=(10,8))\n",
    "plt.step(ds4[\"distance_in_bin\"], ds4[\"N_phot\"]/100000, c=\"k\", label=r\"$\\gamma$\")\n",
    "plt.step(ds4[\"distance_in_bin\"], (ds4[\"N_e+\"]+ds4[\"N_e-\"])/100000, c=\"r\", label=r\"$e^{+}e^{-}$\")\n",
    "plt.step(ds4[\"distance_in_bin\"], (ds4[\"N_mu+\"]+ds4[\"N_mu-\"])/100000, c=\"b\", label=r\"$\\mu^{+}\\mu^{-}$\")\n",
    "plt.xscale(\"log\")\n",
    "plt.yscale(\"log\")\n",
    "#plt.xlim(0, 200)\n",
    "plt.title(r\"LDF Chacaltaya lluvia promedio, $\\alpha$=-5.43\", fontsize=22)\n",
    "plt.xlabel(\"Distancia al core, m\")\n",
    "plt.ylabel(r\"Flujo normalizado, part/m$^2$\")\n",
    "plt.legend(fontsize=20)"
   ]
  },
  {
   "cell_type": "code",
   "execution_count": 42,
   "metadata": {},
   "outputs": [],
   "source": [
    "de4=pd.read_csv(r\"salida_cha_grb_543.dse\", delimiter=\" \")"
   ]
  },
  {
   "cell_type": "code",
   "execution_count": 43,
   "metadata": {
    "scrolled": false
   },
   "outputs": [
    {
     "name": "stdout",
     "output_type": "stream",
     "text": [
      "<class 'pandas.core.frame.DataFrame'>\n",
      "RangeIndex: 44 entries, 0 to 43\n",
      "Data columns (total 14 columns):\n",
      " #   Column           Non-Null Count  Dtype  \n",
      "---  ------           --------------  -----  \n",
      " 0   distance_in_bin  44 non-null     float64\n",
      " 1   E_phot           44 non-null     float64\n",
      " 2   E_e+             44 non-null     float64\n",
      " 3   E_e-             44 non-null     float64\n",
      " 4   E_mu+            44 non-null     float64\n",
      " 5   E_mu-            44 non-null     float64\n",
      " 6   E_pi0            44 non-null     float64\n",
      " 7   E_pi+            44 non-null     float64\n",
      " 8   E_pi-            44 non-null     float64\n",
      " 9   E_n              44 non-null     float64\n",
      " 10  E_p              44 non-null     float64\n",
      " 11  E_pbar           44 non-null     float64\n",
      " 12  E_others         44 non-null     float64\n",
      " 13  Total_E_per_bin  44 non-null     float64\n",
      "dtypes: float64(14)\n",
      "memory usage: 4.9 KB\n"
     ]
    }
   ],
   "source": [
    "de4.info()"
   ]
  },
  {
   "cell_type": "code",
   "execution_count": 44,
   "metadata": {
    "scrolled": true
   },
   "outputs": [
    {
     "data": {
      "text/html": [
       "<div>\n",
       "<style scoped>\n",
       "    .dataframe tbody tr th:only-of-type {\n",
       "        vertical-align: middle;\n",
       "    }\n",
       "\n",
       "    .dataframe tbody tr th {\n",
       "        vertical-align: top;\n",
       "    }\n",
       "\n",
       "    .dataframe thead th {\n",
       "        text-align: right;\n",
       "    }\n",
       "</style>\n",
       "<table border=\"1\" class=\"dataframe\">\n",
       "  <thead>\n",
       "    <tr style=\"text-align: right;\">\n",
       "      <th></th>\n",
       "      <th>distance_in_bin</th>\n",
       "      <th>E_phot</th>\n",
       "      <th>E_e+</th>\n",
       "      <th>E_e-</th>\n",
       "      <th>E_mu+</th>\n",
       "      <th>E_mu-</th>\n",
       "      <th>E_pi0</th>\n",
       "      <th>E_pi+</th>\n",
       "      <th>E_pi-</th>\n",
       "      <th>E_n</th>\n",
       "      <th>E_p</th>\n",
       "      <th>E_pbar</th>\n",
       "      <th>E_others</th>\n",
       "      <th>Total_E_per_bin</th>\n",
       "    </tr>\n",
       "  </thead>\n",
       "  <tbody>\n",
       "    <tr>\n",
       "      <th>0</th>\n",
       "      <td>1.000000</td>\n",
       "      <td>22799.3250</td>\n",
       "      <td>7051.60590</td>\n",
       "      <td>6721.21030</td>\n",
       "      <td>0.000000</td>\n",
       "      <td>0.000000</td>\n",
       "      <td>0.0</td>\n",
       "      <td>0.000000</td>\n",
       "      <td>0.0</td>\n",
       "      <td>0.000000</td>\n",
       "      <td>0.597942</td>\n",
       "      <td>0.0</td>\n",
       "      <td>0.0</td>\n",
       "      <td>36572.7390</td>\n",
       "    </tr>\n",
       "    <tr>\n",
       "      <th>1</th>\n",
       "      <td>1.258925</td>\n",
       "      <td>4585.2245</td>\n",
       "      <td>1227.22750</td>\n",
       "      <td>1336.99350</td>\n",
       "      <td>0.000000</td>\n",
       "      <td>0.000000</td>\n",
       "      <td>0.0</td>\n",
       "      <td>0.000000</td>\n",
       "      <td>0.0</td>\n",
       "      <td>0.000000</td>\n",
       "      <td>0.000000</td>\n",
       "      <td>0.0</td>\n",
       "      <td>0.0</td>\n",
       "      <td>7149.4455</td>\n",
       "    </tr>\n",
       "    <tr>\n",
       "      <th>2</th>\n",
       "      <td>1.584893</td>\n",
       "      <td>3382.6684</td>\n",
       "      <td>989.07394</td>\n",
       "      <td>1023.61180</td>\n",
       "      <td>0.076301</td>\n",
       "      <td>0.000000</td>\n",
       "      <td>0.0</td>\n",
       "      <td>0.490695</td>\n",
       "      <td>0.0</td>\n",
       "      <td>0.000000</td>\n",
       "      <td>0.000000</td>\n",
       "      <td>0.0</td>\n",
       "      <td>0.0</td>\n",
       "      <td>5395.9212</td>\n",
       "    </tr>\n",
       "    <tr>\n",
       "      <th>3</th>\n",
       "      <td>1.995262</td>\n",
       "      <td>2728.3371</td>\n",
       "      <td>777.81416</td>\n",
       "      <td>792.89863</td>\n",
       "      <td>0.026844</td>\n",
       "      <td>3.958559</td>\n",
       "      <td>0.0</td>\n",
       "      <td>0.000000</td>\n",
       "      <td>0.0</td>\n",
       "      <td>0.446108</td>\n",
       "      <td>0.294980</td>\n",
       "      <td>0.0</td>\n",
       "      <td>0.0</td>\n",
       "      <td>4303.7764</td>\n",
       "    </tr>\n",
       "    <tr>\n",
       "      <th>4</th>\n",
       "      <td>2.511886</td>\n",
       "      <td>2154.5808</td>\n",
       "      <td>614.18847</td>\n",
       "      <td>616.20272</td>\n",
       "      <td>0.000000</td>\n",
       "      <td>10.313706</td>\n",
       "      <td>0.0</td>\n",
       "      <td>0.000000</td>\n",
       "      <td>0.0</td>\n",
       "      <td>0.086170</td>\n",
       "      <td>0.364059</td>\n",
       "      <td>0.0</td>\n",
       "      <td>0.0</td>\n",
       "      <td>3395.7359</td>\n",
       "    </tr>\n",
       "  </tbody>\n",
       "</table>\n",
       "</div>"
      ],
      "text/plain": [
       "   distance_in_bin      E_phot        E_e+        E_e-     E_mu+      E_mu-  \\\n",
       "0         1.000000  22799.3250  7051.60590  6721.21030  0.000000   0.000000   \n",
       "1         1.258925   4585.2245  1227.22750  1336.99350  0.000000   0.000000   \n",
       "2         1.584893   3382.6684   989.07394  1023.61180  0.076301   0.000000   \n",
       "3         1.995262   2728.3371   777.81416   792.89863  0.026844   3.958559   \n",
       "4         2.511886   2154.5808   614.18847   616.20272  0.000000  10.313706   \n",
       "\n",
       "   E_pi0     E_pi+  E_pi-       E_n       E_p  E_pbar  E_others  \\\n",
       "0    0.0  0.000000    0.0  0.000000  0.597942     0.0       0.0   \n",
       "1    0.0  0.000000    0.0  0.000000  0.000000     0.0       0.0   \n",
       "2    0.0  0.490695    0.0  0.000000  0.000000     0.0       0.0   \n",
       "3    0.0  0.000000    0.0  0.446108  0.294980     0.0       0.0   \n",
       "4    0.0  0.000000    0.0  0.086170  0.364059     0.0       0.0   \n",
       "\n",
       "   Total_E_per_bin  \n",
       "0       36572.7390  \n",
       "1        7149.4455  \n",
       "2        5395.9212  \n",
       "3        4303.7764  \n",
       "4        3395.7359  "
      ]
     },
     "execution_count": 44,
     "metadata": {},
     "output_type": "execute_result"
    }
   ],
   "source": [
    "de4.head()"
   ]
  },
  {
   "cell_type": "code",
   "execution_count": 45,
   "metadata": {
    "scrolled": false
   },
   "outputs": [
    {
     "data": {
      "text/plain": [
       "<matplotlib.legend.Legend at 0x7f56006826d8>"
      ]
     },
     "execution_count": 45,
     "metadata": {},
     "output_type": "execute_result"
    },
    {
     "data": {
      "image/png": "[encoded data removed]",
      "text/plain": [
       "<Figure size 720x576 with 1 Axes>"
      ]
     },
     "metadata": {
      "needs_background": "light"
     },
     "output_type": "display_data"
    }
   ],
   "source": [
    "plt.figure(figsize=(10,8))\n",
    "plt.step(de4[\"distance_in_bin\"], de4[\"E_phot\"]/100000, c=\"k\", label=r\"$\\gamma$\")\n",
    "plt.step(de4[\"distance_in_bin\"], (de4[\"E_e+\"]+de4[\"E_e-\"])/100000, c=\"r\", label=r\"$e^{+}e^{-}$\")\n",
    "plt.step(de4[\"distance_in_bin\"], (de4[\"E_mu+\"]+de4[\"E_mu-\"])/100000, c=\"b\", label=r\"$\\mu^{+}\\mu^{-}$\")\n",
    "plt.xscale(\"log\")\n",
    "plt.yscale(\"log\")\n",
    "#plt.xlim(0, 200)\n",
    "plt.title(r\"LDF Chacaltaya lluvia promedio, $\\alpha$=-5.43\", fontsize=22)\n",
    "plt.xlabel(\"Distancia al core, m\")\n",
    "plt.ylabel(r\"Energy fluence, GeV/m$^2$\")\n",
    "plt.legend(fontsize=20)"
   ]
  },
  {
   "cell_type": "code",
   "execution_count": null,
   "metadata": {},
   "outputs": [],
   "source": []
  },
  {
   "cell_type": "code",
   "execution_count": null,
   "metadata": {},
   "outputs": [],
   "source": []
  }
 ],
 "metadata": {
  "kernelspec": {
   "display_name": "Python 3",
   "language": "python",
   "name": "python3"
  },
  "language_info": {
   "codemirror_mode": {
    "name": "ipython",
    "version": 3
   },
   "file_extension": ".py",
   "mimetype": "text/x-python",
   "name": "python",
   "nbconvert_exporter": "python",
   "pygments_lexer": "ipython3",
   "version": "3.6.9"
  }
 },
 "nbformat": 4,
 "nbformat_minor": 2
}
