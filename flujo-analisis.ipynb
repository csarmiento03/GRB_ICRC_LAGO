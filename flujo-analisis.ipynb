{
 "cells": [
  {
   "cell_type": "code",
   "execution_count": 2,
   "id": "aff2671e-3adb-436b-8818-35309f8c6fe0",
   "metadata": {},
   "outputs": [],
   "source": [
    "%matplotlib inline\n",
    "import numpy as np"
   ]
  },
  {
   "cell_type": "markdown",
   "id": "ab171d3e-431f-412c-b87f-9cb0a5610a89",
   "metadata": {},
   "source": [
    "## General flux calculations"
   ]
  },
  {
   "cell_type": "markdown",
   "id": "19773ba1-a1c5-4ed7-b959-cc7025879dd8",
   "metadata": {},
   "source": [
    "Let's define the integrated flux as the differential flux of primaries after solid angle integration, i.e.,\n",
    "$$df(E) = \\frac{\\partial f}{\\partial E} dE,$$\n",
    "where\n",
    "$$\\frac{\\partial f}{\\partial E} = j_0 \\left (\\frac{E}{E_0} \\right)^{-\\gamma},$$\n",
    "and $j_0 \\equiv j_0(E,Z)$ is the normalized flux, in units of (photons/m$^2$ s TeV), at the reference energy $E_0$."
   ]
  },
  {
   "cell_type": "markdown",
   "id": "a879d5b9-bff9-4a09-a0d7-034a399be107",
   "metadata": {},
   "source": [
    "So, the total number of expected particles at ground can be calulated from:\n",
    "$$ N = t A \\int_{E_\\min}^{E_\\max} j_0 \\left (\\frac{E}{E_0} \\right)^{-\\gamma} dE,$$\n",
    "where $t$ and $A$ are the integration time and the detector area respectively. So,\n",
    "$$ N = \\left ( \\frac{A t j_0}{(-\\gamma + 1) E_0^{-\\gamma}} \\right) \\left . E ^{-\\gamma + 1} \\right \\vert_{E_\\min}^{E_\\max}$$"
   ]
  },
  {
   "cell_type": "code",
   "execution_count": 3,
   "id": "bfa4f35f-5537-4721-a4f3-22955f8f722a",
   "metadata": {},
   "outputs": [],
   "source": [
    "def N(j0, e0, gamma, area=10000., time=1., emin=0.2, emax=1.):\n",
    "    if gamma < 0:\n",
    "        gamma *= -1  #  gamma is assumed positive here as the minus sign is explicit\n",
    "    gamma1 = -gamma + 1\n",
    "    n = ((area * time * j0) / ( gamma1 * e0**(-gamma) )) * (emax**gamma1 - emin**gamma1)\n",
    "    return n"
   ]
  },
  {
   "cell_type": "markdown",
   "id": "ab61843f-8e95-481d-b44e-3c9b34a37906",
   "metadata": {},
   "source": [
    "Now, we can get the flux values at Earth for each of the proposed GRBs from [our minutes](https://docs.google.com/document/d/18dlxXyztRxneX_h9-1sITCPc1etoqpx4Hg5cc6P8fBY/edit?usp=sharing):\n",
    "\n",
    "* GRB 1; $z=0.02$; $\\gamma=2.37$; $j_0=7.5 \\times 10^{-9}$\\,cm$^{-2}$\\,s$^{-1}$\\,TeV$^{-1}$; $E_0=0.47$\\,TeV\n",
    "* GRB 2; $z=0.07$; $\\gamma=2.70$; $j_0=5.5 \\times 10^{-9}$\\,cm$^{-2}$\\,s$^{-1}$\\,TeV$^{-1}$; $E_0=0.48$\\,TeV\n",
    "* GRB 3; $z=0.17$; $\\gamma=3.37$; $j_0=2.75 \\times 10^{-9}$\\,cm$^{-2}$\\,s$^{-1}$\\,TeV$^{-1}$; $E_0=0.48$\\,TeV\n",
    "* GRB 4; $z=0.425$; $\\gamma=5.43$; $j_0=4.09 \\times 10^{-10}$\\,cm$^{-2}$\\,s$^{-1}$\\,TeV$^{-1}$; $E_0=0.475$\\,TeV.\n",
    "\n",
    "Y luego le número de fotones esperado en el rango $0.2 < E/{\\mathrm{TeV}} < 1$, por m$^2$ y segundo será: "
   ]
  },
  {
   "cell_type": "code",
   "execution_count": 10,
   "id": "cc5c1099-18f1-46a3-b6ca-b2da04a21746",
   "metadata": {},
   "outputs": [
    {
     "name": "stdout",
     "output_type": "stream",
     "text": [
      "7.380155208896177e-05\n"
     ]
    }
   ],
   "source": [
    "n1=N(j0=7.5e-9, e0=0.47, gamma=2.37)\n",
    "print(n1)"
   ]
  },
  {
   "cell_type": "code",
   "execution_count": 11,
   "id": "89ee75a7-7512-4470-994d-0b60b6f8aa76",
   "metadata": {},
   "outputs": [
    {
     "name": "stdout",
     "output_type": "stream",
     "text": [
      "6.432894334077955e-05\n"
     ]
    }
   ],
   "source": [
    "n2=N(j0=5.5e-9, e0=0.48, gamma=2.70)\n",
    "print(n2)"
   ]
  },
  {
   "cell_type": "code",
   "execution_count": 12,
   "id": "81043ed5-7e06-4f80-a4b8-010a0956cca3",
   "metadata": {},
   "outputs": [
    {
     "name": "stdout",
     "output_type": "stream",
     "text": [
      "4.337526552351194e-05\n"
     ]
    }
   ],
   "source": [
    "n3=N(j0=2.75e-9, e0=0.48, gamma=3.37)\n",
    "print(n3)"
   ]
  },
  {
   "cell_type": "code",
   "execution_count": 14,
   "id": "e398e580-ee7e-411b-989d-fbf09d58bcda",
   "metadata": {},
   "outputs": [
    {
     "name": "stdout",
     "output_type": "stream",
     "text": [
      "2.022344078794964e-05\n"
     ]
    }
   ],
   "source": [
    "n4=N(j0=4.09e-10, e0=0.475, gamma=5.43)\n",
    "print(n4)"
   ]
  },
  {
   "cell_type": "code",
   "execution_count": null,
   "id": "3ebe9d8a-9ba8-4c84-89eb-e5a1c1fc8a22",
   "metadata": {},
   "outputs": [],
   "source": []
  }
 ],
 "metadata": {
  "kernelspec": {
   "display_name": "Python 3",
   "language": "python",
   "name": "python3"
  },
  "language_info": {
   "codemirror_mode": {
    "name": "ipython",
    "version": 3
   },
   "file_extension": ".py",
   "mimetype": "text/x-python",
   "name": "python",
   "nbconvert_exporter": "python",
   "pygments_lexer": "ipython3",
   "version": "3.8.8"
  }
 },
 "nbformat": 4,
 "nbformat_minor": 5
}
